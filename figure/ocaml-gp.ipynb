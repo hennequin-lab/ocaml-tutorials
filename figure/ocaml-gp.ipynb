{
 "cells": [
  {
   "cell_type": "code",
   "execution_count": 3,
   "metadata": {},
   "outputs": [],
   "source": [
    "#require \"juplot\""
   ]
  },
  {
   "cell_type": "code",
   "execution_count": 14,
   "metadata": {},
   "outputs": [
    {
     "data": {
      "text/plain": [
       "val make_data : float -> Owl.Mat.mat * Owl.Mat.mat * Owl.Mat.mat = <fun>\n"
      ]
     },
     "execution_count": 14,
     "metadata": {},
     "output_type": "execute_result"
    }
   ],
   "source": [
    "let make_data phase =\n",
    "  let x = Mat.linspace 0. Const.pi2 100 in\n",
    "  let y = Mat.linspace 0. Const.pi2 100 in\n",
    "  let z = Mat.init_2d 100 100 (fun i j -> cos (phase +. Mat.get x 0 i -. Mat.get y 0 j)) in\n",
    "  (x, y, z)"
   ]
  },
  {
   "cell_type": "code",
   "execution_count": 23,
   "metadata": {},
   "outputs": [
    {
     "data": {
      "image/svg+xml": [
       "<?xml version=\"1.0\" encoding=\"utf-8\"  standalone=\"no\"?>\n",
       "<svg \n",
       " width=\"400\" height=\"300\"\n",
       " viewBox=\"0 0 400 300\"\n",
       " xmlns=\"http://www.w3.org/2000/svg\"\n",
       " xmlns:xlink=\"http://www.w3.org/1999/xlink\"\n",
       ">\n",
       "\n",
       "<title>Gnuplot</title>\n",
       "<desc>Produced by GNUPLOT 5.2 patchlevel 6 </desc>\n",
       "\n",
       "<g id=\"gnuplot_canvas\">\n",
       "\n",
       "<rect x=\"0\" y=\"0\" width=\"400\" height=\"300\" fill=\"none\"/>\n",
       "<defs>\n",
       "\n",
       "\t<circle id='gpDot' r='0.5' stroke-width='0.5' stroke='currentColor'/>\n",
       "\t<path id='gpPt0' stroke-width='0.222' stroke='currentColor' d='M-1,0 h2 M0,-1 v2'/>\n",
       "\t<path id='gpPt1' stroke-width='0.222' stroke='currentColor' d='M-1,-1 L1,1 M1,-1 L-1,1'/>\n",
       "\t<path id='gpPt2' stroke-width='0.222' stroke='currentColor' d='M-1,0 L1,0 M0,-1 L0,1 M-1,-1 L1,1 M-1,1 L1,-1'/>\n",
       "\t<rect id='gpPt3' stroke-width='0.222' stroke='currentColor' x='-1' y='-1' width='2' height='2'/>\n",
       "\t<rect id='gpPt4' stroke-width='0.222' stroke='currentColor' fill='currentColor' x='-1' y='-1' width='2' height='2'/>\n",
       "\t<circle id='gpPt5' stroke-width='0.222' stroke='currentColor' cx='0' cy='0' r='1'/>\n",
       "\t<use xlink:href='#gpPt5' id='gpPt6' fill='currentColor' stroke='none'/>\n",
       "\t<path id='gpPt7' stroke-width='0.222' stroke='currentColor' d='M0,-1.33 L-1.33,0.67 L1.33,0.67 z'/>\n",
       "\t<use xlink:href='#gpPt7' id='gpPt8' fill='currentColor' stroke='none'/>\n",
       "\t<use xlink:href='#gpPt7' id='gpPt9' stroke='currentColor' transform='rotate(180)'/>\n",
       "\t<use xlink:href='#gpPt9' id='gpPt10' fill='currentColor' stroke='none'/>\n",
       "\t<use xlink:href='#gpPt3' id='gpPt11' stroke='currentColor' transform='rotate(45)'/>\n",
       "\t<use xlink:href='#gpPt11' id='gpPt12' fill='currentColor' stroke='none'/>\n",
       "\t<path id='gpPt13' stroke-width='0.222' stroke='currentColor' d='M0,1.330 L1.265,0.411 L0.782,-1.067 L-0.782,-1.076 L-1.265,0.411 z'/>\n",
       "\t<use xlink:href='#gpPt13' id='gpPt14' fill='currentColor' stroke='none'/>\n",
       "\t<filter id='textbox' filterUnits='objectBoundingBox' x='0' y='0' height='1' width='1'>\n",
       "\t  <feFlood flood-color='white' flood-opacity='1' result='bgnd'/>\n",
       "\t  <feComposite in='SourceGraphic' in2='bgnd' operator='atop'/>\n",
       "\t</filter>\n",
       "\t<filter id='greybox' filterUnits='objectBoundingBox' x='0' y='0' height='1' width='1'>\n",
       "\t  <feFlood flood-color='lightgrey' flood-opacity='1' result='grey'/>\n",
       "\t  <feComposite in='SourceGraphic' in2='grey' operator='atop'/>\n",
       "\t</filter>\n",
       "</defs>\n",
       "<g fill=\"none\" color=\"white\" stroke=\"currentColor\" stroke-width=\"1.00\" stroke-linecap=\"butt\" stroke-linejoin=\"miter\">\n",
       "</g>\n",
       "<g fill=\"none\" color=\"black\" stroke=\"currentColor\" stroke-width=\"1.00\" stroke-linecap=\"butt\" stroke-linejoin=\"miter\">\n",
       "\t<path stroke='black'  d='M46.3,233.4 L37.3,233.4  '/>\t<g transform=\"translate(29.0,237.3)\" stroke=\"none\" fill=\"black\" font-family=\"Helvetica\" font-size=\"12.00\"  text-anchor=\"end\">\n",
       "\t\t<text><tspan font-family=\"Helvetica\" > 0</tspan></text>\n",
       "\t</g>\n",
       "</g>\n",
       "<g fill=\"none\" color=\"black\" stroke=\"currentColor\" stroke-width=\"1.00\" stroke-linecap=\"butt\" stroke-linejoin=\"miter\">\n",
       "\t<path stroke='black'  d='M46.3,204.9 L37.3,204.9  '/>\t<g transform=\"translate(29.0,208.8)\" stroke=\"none\" fill=\"black\" font-family=\"Helvetica\" font-size=\"12.00\"  text-anchor=\"end\">\n",
       "\t\t<text><tspan font-family=\"Helvetica\" > 1</tspan></text>\n",
       "\t</g>\n",
       "</g>\n",
       "<g fill=\"none\" color=\"black\" stroke=\"currentColor\" stroke-width=\"1.00\" stroke-linecap=\"butt\" stroke-linejoin=\"miter\">\n",
       "\t<path stroke='black'  d='M46.3,176.3 L37.3,176.3  '/>\t<g transform=\"translate(29.0,180.2)\" stroke=\"none\" fill=\"black\" font-family=\"Helvetica\" font-size=\"12.00\"  text-anchor=\"end\">\n",
       "\t\t<text><tspan font-family=\"Helvetica\" > 2</tspan></text>\n",
       "\t</g>\n",
       "</g>\n",
       "<g fill=\"none\" color=\"black\" stroke=\"currentColor\" stroke-width=\"1.00\" stroke-linecap=\"butt\" stroke-linejoin=\"miter\">\n",
       "\t<path stroke='black'  d='M46.3,147.8 L37.3,147.8  '/>\t<g transform=\"translate(29.0,151.7)\" stroke=\"none\" fill=\"black\" font-family=\"Helvetica\" font-size=\"12.00\"  text-anchor=\"end\">\n",
       "\t\t<text><tspan font-family=\"Helvetica\" > 3</tspan></text>\n",
       "\t</g>\n",
       "</g>\n",
       "<g fill=\"none\" color=\"black\" stroke=\"currentColor\" stroke-width=\"1.00\" stroke-linecap=\"butt\" stroke-linejoin=\"miter\">\n",
       "\t<path stroke='black'  d='M46.3,119.3 L37.3,119.3  '/>\t<g transform=\"translate(29.0,123.2)\" stroke=\"none\" fill=\"black\" font-family=\"Helvetica\" font-size=\"12.00\"  text-anchor=\"end\">\n",
       "\t\t<text><tspan font-family=\"Helvetica\" > 4</tspan></text>\n",
       "\t</g>\n",
       "</g>\n",
       "<g fill=\"none\" color=\"black\" stroke=\"currentColor\" stroke-width=\"1.00\" stroke-linecap=\"butt\" stroke-linejoin=\"miter\">\n",
       "\t<path stroke='black'  d='M46.3,90.7 L37.3,90.7  '/>\t<g transform=\"translate(29.0,94.6)\" stroke=\"none\" fill=\"black\" font-family=\"Helvetica\" font-size=\"12.00\"  text-anchor=\"end\">\n",
       "\t\t<text><tspan font-family=\"Helvetica\" > 5</tspan></text>\n",
       "\t</g>\n",
       "</g>\n",
       "<g fill=\"none\" color=\"black\" stroke=\"currentColor\" stroke-width=\"1.00\" stroke-linecap=\"butt\" stroke-linejoin=\"miter\">\n",
       "\t<path stroke='black'  d='M46.3,62.2 L37.3,62.2  '/>\t<g transform=\"translate(29.0,66.1)\" stroke=\"none\" fill=\"black\" font-family=\"Helvetica\" font-size=\"12.00\"  text-anchor=\"end\">\n",
       "\t\t<text><tspan font-family=\"Helvetica\" > 6</tspan></text>\n",
       "\t</g>\n",
       "</g>\n",
       "<g fill=\"none\" color=\"black\" stroke=\"currentColor\" stroke-width=\"1.00\" stroke-linecap=\"butt\" stroke-linejoin=\"miter\">\n",
       "\t<path stroke='black'  d='M46.3,233.4 L46.3,242.4  '/>\t<g transform=\"translate(46.3,264.3)\" stroke=\"none\" fill=\"black\" font-family=\"Helvetica\" font-size=\"12.00\"  text-anchor=\"middle\">\n",
       "\t\t<text><tspan font-family=\"Helvetica\" > 0</tspan></text>\n",
       "\t</g>\n",
       "</g>\n",
       "<g fill=\"none\" color=\"black\" stroke=\"currentColor\" stroke-width=\"1.00\" stroke-linecap=\"butt\" stroke-linejoin=\"miter\">\n",
       "\t<path stroke='black'  d='M98.6,233.4 L98.6,242.4  '/>\t<g transform=\"translate(98.6,264.3)\" stroke=\"none\" fill=\"black\" font-family=\"Helvetica\" font-size=\"12.00\"  text-anchor=\"middle\">\n",
       "\t\t<text><tspan font-family=\"Helvetica\" > 1</tspan></text>\n",
       "\t</g>\n",
       "</g>\n",
       "<g fill=\"none\" color=\"black\" stroke=\"currentColor\" stroke-width=\"1.00\" stroke-linecap=\"butt\" stroke-linejoin=\"miter\">\n",
       "\t<path stroke='black'  d='M150.9,233.4 L150.9,242.4  '/>\t<g transform=\"translate(150.9,264.3)\" stroke=\"none\" fill=\"black\" font-family=\"Helvetica\" font-size=\"12.00\"  text-anchor=\"middle\">\n",
       "\t\t<text><tspan font-family=\"Helvetica\" > 2</tspan></text>\n",
       "\t</g>\n",
       "</g>\n",
       "<g fill=\"none\" color=\"black\" stroke=\"currentColor\" stroke-width=\"1.00\" stroke-linecap=\"butt\" stroke-linejoin=\"miter\">\n",
       "\t<path stroke='black'  d='M203.2,233.4 L203.2,242.4  '/>\t<g transform=\"translate(203.2,264.3)\" stroke=\"none\" fill=\"black\" font-family=\"Helvetica\" font-size=\"12.00\"  text-anchor=\"middle\">\n",
       "\t\t<text><tspan font-family=\"Helvetica\" > 3</tspan></text>\n",
       "\t</g>\n",
       "</g>\n",
       "<g fill=\"none\" color=\"black\" stroke=\"currentColor\" stroke-width=\"1.00\" stroke-linecap=\"butt\" stroke-linejoin=\"miter\">\n",
       "\t<path stroke='black'  d='M255.6,233.4 L255.6,242.4  '/>\t<g transform=\"translate(255.6,264.3)\" stroke=\"none\" fill=\"black\" font-family=\"Helvetica\" font-size=\"12.00\"  text-anchor=\"middle\">\n",
       "\t\t<text><tspan font-family=\"Helvetica\" > 4</tspan></text>\n",
       "\t</g>\n",
       "</g>\n",
       "<g fill=\"none\" color=\"black\" stroke=\"currentColor\" stroke-width=\"1.00\" stroke-linecap=\"butt\" stroke-linejoin=\"miter\">\n",
       "\t<path stroke='black'  d='M307.9,233.4 L307.9,242.4  '/>\t<g transform=\"translate(307.9,264.3)\" stroke=\"none\" fill=\"black\" font-family=\"Helvetica\" font-size=\"12.00\"  text-anchor=\"middle\">\n",
       "\t\t<text><tspan font-family=\"Helvetica\" > 5</tspan></text>\n",
       "\t</g>\n",
       "</g>\n",
       "<g fill=\"none\" color=\"black\" stroke=\"currentColor\" stroke-width=\"1.00\" stroke-linecap=\"butt\" stroke-linejoin=\"miter\">\n",
       "\t<path stroke='black'  d='M360.2,233.4 L360.2,242.4  '/>\t<g transform=\"translate(360.2,264.3)\" stroke=\"none\" fill=\"black\" font-family=\"Helvetica\" font-size=\"12.00\"  text-anchor=\"middle\">\n",
       "\t\t<text><tspan font-family=\"Helvetica\" > 6</tspan></text>\n",
       "\t</g>\n",
       "</g>\n",
       "<g fill=\"none\" color=\"black\" stroke=\"currentColor\" stroke-width=\"1.00\" stroke-linecap=\"butt\" stroke-linejoin=\"miter\">\n",
       "</g>\n",
       "<g fill=\"none\" color=\"black\" stroke=\"currentColor\" stroke-width=\"1.00\" stroke-linecap=\"butt\" stroke-linejoin=\"miter\">\n",
       "\t<path stroke='black'  d='M46.3,54.1 L46.3,233.4 L375.0,233.4 M375.0,54.1 M46.3,54.1  '/></g>\n",
       "<g fill=\"none\" color=\"black\" stroke=\"currentColor\" stroke-width=\"1.00\" stroke-linecap=\"butt\" stroke-linejoin=\"miter\">\n",
       "\t<g transform=\"translate(210.6,291.3)\" stroke=\"none\" fill=\"black\" font-family=\"Helvetica\" font-size=\"12.00\"  text-anchor=\"middle\">\n",
       "\t\t<text><tspan font-family=\"Helvetica\" >angle</tspan></text>\n",
       "\t</g>\n",
       "</g>\n",
       "<g fill=\"none\" color=\"black\" stroke=\"currentColor\" stroke-width=\"1.00\" stroke-linecap=\"butt\" stroke-linejoin=\"miter\">\n",
       "\t<g transform=\"translate(210.6,31.0)\" stroke=\"none\" fill=\"black\" font-family=\"Helvetica\" font-size=\"12.00\"  text-anchor=\"middle\">\n",
       "\t\t<text><tspan font-family=\"Helvetica\" >hello</tspan></text>\n",
       "\t</g>\n",
       "</g>\n",
       "\t<g id=\"gnuplot_plot_1a\" ><title>gnuplot_plot_1a</title>\n",
       "<g fill=\"none\" color=\"black\" stroke=\"currentColor\" stroke-width=\"1.00\" stroke-linecap=\"butt\" stroke-linejoin=\"miter\">\n",
       "<image x='44.6' y='53.2' width='332.1' height='181.1' preserveAspectRatio='none' xlink:href='data:image/png;base64,iVBORw0KGgoAAAANSUhEUgAAAGQAAABkCAIAAAD/gAIDAAAABmJLR0QA/wD/AP+gvaeTAAACkElEQVR4nO3YyxGkOAAEUUgkIYkeN9b/w3q2zacFiLmsAcW9ItKCd8zx3/DPwEgcxsyUCZlQplBCLCHWlGqMdU7LHJccPyUsJSwLS2X5DHV56p+eP1f+tPT5pc/Bsj9lv/N2pu0M22/afmzHsB3Ptvd9v47/a20/2+9sRzvbebXzale/rvu++92f3ofnGYZhGMcRmJimiRBCCiHFmGLKKc0xlZhLyiXkEkoJtVDzWPNQ517nu8arxlamo4x77uvcvql9w/Hl+I7bf8O29vXb1+1a12vdz+9+rkdbf+f2a9t5bu3cr2u/rv2+jn4f/Tl6P4ehP1hKlBoYsZQqFQcsJUqNGUupUlPGUqpUyFhKlQplwlKiVCgBS4lSsQQsJUrFmrCUKJVqxFKiVKwzlhKl0jJjKVEqLhlL6SsBS+krAUu9WAmWerESLKWvBCylrwQspa8ELKWvBCylrwQspa8ELKWvBCylrwQspa8ELKWvBCylrwQspa8ELKWvBCylrwRLvZguWEpfCVhKXwlYSl8JWEpfCVhKXwlYSl8JWEpfCVhKXwlYSl8JWEpfCVhKXwlYSl8JWEpfCVhKXwlYSl8JWEpfCVhKXwlYSl8JWEpfCVjqxUqwlL4SLPVmulhKXwlYSl8JWEpfCVhKXwlYSl8JWEpfCVhKXwlYSl8JWEpfCVhKXwlYSl8JWEpfCZZ6sRKwlL4SsJS+ErCUvhKwlL4SsJS+ErCUvhKwlL4SsJS+ErCUvhKwlL4SsNSLlWApfSVgKX0lYCl9JWApfSVgKX0lYCl9JWApfSVgKX0lYCl9JWApfSVgKX0lYCl9JWApfSVgKX0lYCl9JWApfSVgKX0lYCl9JWApfSVgKX0lYCl9JfwFL6wK7mzsGfYAAAAASUVORK5CYII='/>\n",
       "</g>\n",
       "\t</g>\n",
       "<g fill=\"none\" color=\"white\" stroke=\"rgb(148,   0, 211)\" stroke-width=\"2.00\" stroke-linecap=\"butt\" stroke-linejoin=\"miter\">\n",
       "</g>\n",
       "<g fill=\"none\" color=\"black\" stroke=\"currentColor\" stroke-width=\"2.00\" stroke-linecap=\"butt\" stroke-linejoin=\"miter\">\n",
       "</g>\n",
       "<g fill=\"none\" color=\"black\" stroke=\"black\" stroke-width=\"1.00\" stroke-linecap=\"butt\" stroke-linejoin=\"miter\">\n",
       "</g>\n",
       "<g fill=\"none\" color=\"black\" stroke=\"currentColor\" stroke-width=\"1.00\" stroke-linecap=\"butt\" stroke-linejoin=\"miter\">\n",
       "\t<path stroke='black'  d='M46.3,54.1 L46.3,233.4 L375.0,233.4 M375.0,54.1 M46.3,54.1  '/></g>\n",
       "<g fill=\"none\" color=\"black\" stroke=\"currentColor\" stroke-width=\"1.00\" stroke-linecap=\"butt\" stroke-linejoin=\"miter\">\n",
       "</g>\n",
       "</g>\n",
       "</svg>\n",
       "\n"
      ]
     },
     "metadata": {},
     "output_type": "display_data"
    },
    {
     "data": {
      "text/plain": [
       "- : unit = ()\n"
      ]
     },
     "execution_count": 23,
     "metadata": {},
     "output_type": "execute_result"
    }
   ],
   "source": [
    "let _ =\n",
    "  let display_id = Jupyter_notebook.display \"text/html\" \"\" in\n",
    "  let open Gp in\n",
    "  let figure phase (module P : Plot) =\n",
    "    P.heatmap (`grid (make_data phase)) \n",
    "    (default_props @ [ xlabel \"angle\"; title \"hello\"])\n",
    "  in\n",
    "  let phases = Mat.linspace 0. Const.pi2 20 in\n",
    "  Mat.iter\n",
    "    (fun phase -> Juplot.draw ~display_id ~size:(400, 300) (figure phase))\n",
    "    phases"
   ]
  },
  {
   "cell_type": "code",
   "execution_count": 26,
   "metadata": {},
   "outputs": [
    {
     "data": {
      "text/plain": [
       "- : unit = ()\n"
      ]
     },
     "execution_count": 26,
     "metadata": {},
     "output_type": "execute_result"
    }
   ],
   "source": [
    "(* convert -delay 20 test*.png -loop 0 movie.gif *)\n",
    "let _ =\n",
    "  let open Gp in\n",
    "  let figure phase (module P : Plot) =\n",
    "    P.heatmap\n",
    "      (`grid (make_data phase))\n",
    "      (default_props @ [ xlabel \"angle\"; title \"hello\" ])\n",
    "  in\n",
    "  let phases = Mat.linspace 0. Const.pi2 20 in\n",
    "  Mat.iteri\n",
    "    (fun i phase -> draw ~output:(png ~size:(400, 300) Printf.(sprintf \"test%05i%s.png\" i)) (figure phase))\n",
    "    phases"
   ]
  },
  {
   "cell_type": "code",
   "execution_count": null,
   "metadata": {},
   "outputs": [],
   "source": []
  }
 ],
 "metadata": {
  "kernelspec": {
   "display_name": "OCaml 4.08.1+flambda",
   "language": "OCaml",
   "name": "ocaml-jupyter"
  },
  "language_info": {
   "codemirror_mode": "text/x-ocaml",
   "file_extension": ".ml",
   "mimetype": "text/x-ocaml",
   "name": "OCaml",
   "nbconverter_exporter": null,
   "pygments_lexer": "OCaml",
   "version": "4.08.1"
  }
 },
 "nbformat": 4,
 "nbformat_minor": 2
}
