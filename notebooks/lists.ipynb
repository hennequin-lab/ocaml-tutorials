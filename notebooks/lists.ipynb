{
 "cells": [
  {
   "cell_type": "code",
   "execution_count": 13,
   "metadata": {},
   "outputs": [],
   "source": [
    "#print_length 1000"
   ]
  },
  {
   "cell_type": "code",
   "execution_count": 4,
   "metadata": {},
   "outputs": [
    {
     "data": {
      "text/plain": [
       "val x : int list = [4; 5; 6]\n"
      ]
     },
     "execution_count": 4,
     "metadata": {},
     "output_type": "execute_result"
    }
   ],
   "source": [
    "let x = [4; 5; 6]"
   ]
  },
  {
   "cell_type": "code",
   "execution_count": 5,
   "metadata": {},
   "outputs": [
    {
     "data": {
      "text/plain": [
       "- : int = 4\n"
      ]
     },
     "execution_count": 5,
     "metadata": {},
     "output_type": "execute_result"
    }
   ],
   "source": [
    "List.hd x"
   ]
  },
  {
   "cell_type": "code",
   "execution_count": 11,
   "metadata": {},
   "outputs": [
    {
     "data": {
      "text/plain": [
       "val hd : 'a list -> 'a = <fun>\n"
      ]
     },
     "execution_count": 11,
     "metadata": {},
     "output_type": "execute_result"
    }
   ],
   "source": [
    "let hd x =\n",
    "  match x with\n",
    "  | h :: _ -> h\n",
    "  | [] -> failwith \"this list has no head\""
   ]
  },
  {
   "cell_type": "code",
   "execution_count": 15,
   "metadata": {},
   "outputs": [
    {
     "data": {
      "text/plain": [
       "- : int = 4\n"
      ]
     },
     "execution_count": 15,
     "metadata": {},
     "output_type": "execute_result"
    }
   ],
   "source": [
    "hd [4; 5; 6]"
   ]
  },
  {
   "cell_type": "code",
   "execution_count": 16,
   "metadata": {},
   "outputs": [
    {
     "data": {
      "text/plain": [
       "val fst : 'a * 'b -> 'a = <fun>\n"
      ]
     },
     "execution_count": 16,
     "metadata": {},
     "output_type": "execute_result"
    }
   ],
   "source": [
    "let fst x = match x with (a, b) -> a"
   ]
  },
  {
   "cell_type": "code",
   "execution_count": 17,
   "metadata": {},
   "outputs": [
    {
     "data": {
      "text/plain": [
       "- : int * int = (5, 6)\n"
      ]
     },
     "execution_count": 17,
     "metadata": {},
     "output_type": "execute_result"
    }
   ],
   "source": [
    "(5, 6)"
   ]
  },
  {
   "cell_type": "code",
   "execution_count": 19,
   "metadata": {},
   "outputs": [
    {
     "data": {
      "text/plain": [
       "val x : int list = [4; 5; 6]\n"
      ]
     },
     "execution_count": 19,
     "metadata": {},
     "output_type": "execute_result"
    }
   ],
   "source": [
    "let x = 4 :: 5 :: 6 :: []"
   ]
  },
  {
   "cell_type": "code",
   "execution_count": 20,
   "metadata": {},
   "outputs": [
    {
     "data": {
      "text/plain": [
       "- : int list = [6; 5; 4]\n"
      ]
     },
     "execution_count": 20,
     "metadata": {},
     "output_type": "execute_result"
    }
   ],
   "source": [
    "List.rev x"
   ]
  },
  {
   "cell_type": "code",
   "execution_count": 21,
   "metadata": {},
   "outputs": [
    {
     "data": {
      "text/plain": [
       "- : int = 15\n"
      ]
     },
     "execution_count": 21,
     "metadata": {},
     "output_type": "execute_result"
    }
   ],
   "source": [
    "List.fold_left ( + ) 0 x"
   ]
  },
  {
   "cell_type": "code",
   "execution_count": 22,
   "metadata": {},
   "outputs": [
    {
     "data": {
      "text/plain": [
       "- : int list = [4; 5; 6; 7; 8; 9]\n"
      ]
     },
     "execution_count": 22,
     "metadata": {},
     "output_type": "execute_result"
    }
   ],
   "source": [
    "[ 4; 5; 6 ] @ [ 7; 8; 9 ]"
   ]
  },
  {
   "cell_type": "code",
   "execution_count": null,
   "metadata": {},
   "outputs": [],
   "source": [
    "List.rev_append"
   ]
  },
  {
   "cell_type": "code",
   "execution_count": 26,
   "metadata": {},
   "outputs": [
    {
     "data": {
      "text/plain": [
       "val maybe_add_one : float option -> float option = <fun>\n"
      ]
     },
     "execution_count": 26,
     "metadata": {},
     "output_type": "execute_result"
    }
   ],
   "source": [
    "let maybe_add_one = function\n",
    "  | Some x -> Some (x +. 1.)\n",
    "  | None -> None"
   ]
  },
  {
   "cell_type": "code",
   "execution_count": 29,
   "metadata": {},
   "outputs": [
    {
     "data": {
      "text/plain": [
       "val maybe_add_one : float option -> float option = <fun>\n"
      ]
     },
     "execution_count": 29,
     "metadata": {},
     "output_type": "execute_result"
    }
   ],
   "source": [
    "let maybe_add_one x =\n",
    "  match x with\n",
    "  | Some x -> Some (x +. 1.)\n",
    "  | None -> None"
   ]
  },
  {
   "cell_type": "code",
   "execution_count": 31,
   "metadata": {},
   "outputs": [
    {
     "data": {
      "text/plain": [
       "val x : float option array =\n",
       "  [|Some 8.95126018490118724; Some 6.60587387420873551; None; None;\n",
       "    Some 4.08661688980860394; Some 9.58489374788161363;\n",
       "    Some 0.428396261884226415; Some 6.92945615843935681; None; None|]\n"
      ]
     },
     "execution_count": 31,
     "metadata": {},
     "output_type": "execute_result"
    }
   ],
   "source": [
    "let x =\n",
    "  Array.init 10 (fun _ ->\n",
    "      if Random.bool () then Some (Random.float 10.) else None)"
   ]
  },
  {
   "cell_type": "code",
   "execution_count": 34,
   "metadata": {},
   "outputs": [
    {
     "data": {
      "text/plain": [
       "- : float option array =\n",
       "[|Some 9.95126018490118724; Some 7.60587387420873551; None; None;\n",
       "  Some 5.08661688980860394; Some 10.5848937478816136;\n",
       "  Some 1.42839626188422653; Some 7.92945615843935681; None; None|]\n"
      ]
     },
     "execution_count": 34,
     "metadata": {},
     "output_type": "execute_result"
    }
   ],
   "source": [
    "let _ = Array.map (let f x = match x with Some x -> Some (x +. 1.) | None -> None in f) x\n"
   ]
  },
  {
   "cell_type": "code",
   "execution_count": 41,
   "metadata": {},
   "outputs": [
    {
     "data": {
      "text/plain": [
       "exception Unsolvable_size of int\n"
      ]
     },
     "execution_count": 41,
     "metadata": {},
     "output_type": "execute_result"
    }
   ],
   "source": [
    "exception Unsolvable_size of int"
   ]
  },
  {
   "cell_type": "code",
   "execution_count": 43,
   "metadata": {},
   "outputs": [
    {
     "data": {
      "text/plain": [
       "val f : float list -> float = <fun>\n"
      ]
     },
     "execution_count": 43,
     "metadata": {},
     "output_type": "execute_result"
    }
   ],
   "source": [
    "let f x =\n",
    "  let n = List.length x in\n",
    "  if n > 10000 then raise (Unsolvable_size n) else List.fold_left ( +. ) 0. x"
   ]
  },
  {
   "cell_type": "code",
   "execution_count": 50,
   "metadata": {
    "collapsed": true
   },
   "outputs": [
    {
     "data": {
      "text/plain": [
       "val x : float list =\n",
       "  [0.; 1.; 2.; 3.; 4.; 5.; 6.; 7.; 8.; 9.; 10.; 11.; 12.; 13.; 14.; 15.; 16.;\n",
       "   17.; 18.; 19.; 20.; 21.; 22.; 23.; 24.; 25.; 26.; 27.; 28.; 29.; 30.; 31.;\n",
       "   32.; 33.; 34.; 35.; 36.; 37.; 38.; 39.; 40.; 41.; 42.; 43.; 44.; 45.; 46.;\n",
       "   47.; 48.; 49.; 50.; 51.; 52.; 53.; 54.; 55.; 56.; 57.; 58.; 59.; 60.; 61.;\n",
       "   62.; 63.; 64.; 65.; 66.; 67.; 68.; 69.; 70.; 71.; 72.; 73.; 74.; 75.; 76.;\n",
       "   77.; 78.; 79.; 80.; 81.; 82.; 83.; 84.; 85.; 86.; 87.; 88.; 89.; 90.; 91.;\n",
       "   92.; 93.; 94.; 95.; 96.; 97.; 98.; 99.; 100.; 101.; 102.; 103.; 104.;\n",
       "   105.; 106.; 107.; 108.; 109.; 110.; 111.; 112.; 113.; 114.; 115.; 116.;\n",
       "   117.; 118.; 119.; 120.; 121.; 122.; 123.; 124.; 125.; 126.; 127.; 128.;\n",
       "   129.; 130.; 131.; 132.; 133.; 134.; 135.; 136.; 137.; 138.; 139.; 140.;\n",
       "   141.; 142.; 143.; 144.; 145.; 146.; 147.; 148.; 149.; 150.; 151.; 152.;\n",
       "   153.; 154.; 155.; 156.; 157.; 158.; 159.; 160.; 161.; 162.; 163.; 164.;\n",
       "   165.; 166.; 167.; 168.; 169.; 170.; 171.; 172.; 173.; 174.; 175.; 176.;\n",
       "   177.; 178.; 179.; 180.; 181.; 182.; 183.; 184.; 185.; 186.; 187.; 188.;\n",
       "   189.; 190.; 191.; 192.; 193.; 194.; 195.; 196.; 197.; 198.; 199.; 200.;\n",
       "   201.; 202.; 203.; 204.; 205.; 206.; 207.; 208.; 209.; 210.; 211.; 212.;\n",
       "   213.; 214.; 215.; 216.; 217.; 218.; 219.; 220.; 221.; 222.; 223.; 224.;\n",
       "   225.; 226.; 227.; 228.; 229.; 230.; 231.; 232.; 233.; 234.; 235.; 236.;\n",
       "   237.; 238.; 239.; 240.; 241.; 242.; 243.; 244.; 245.; 246.; 247.; 248.;\n",
       "   249.; 250.; 251.; 252.; 253.; 254.; 255.; 256.; 257.; 258.; 259.; 260.;\n",
       "   261.; 262.; 263.; 264.; 265.; 266.; 267.; 268.; 269.; 270.; 271.; 272.;\n",
       "   273.; 274.; 275.; 276.; 277.; 278.; 279.; 280.; 281.; 282.; 283.; 284.;\n",
       "   285.; 286.; 287.; 288.; 289.; 290.; 291.; 292.; 293.; 294.; 295.; 296.;\n",
       "   297.; 298.; 299.; 300.; 301.; 302.; 303.; 304.; 305.; 306.; 307.; 308.;\n",
       "   309.; 310.; 311.; 312.; 313.; 314.; 315.; 316.; 317.; 318.; 319.; 320.;\n",
       "   321.; 322.; 323.; 324.; 325.; 326.; 327.; 328.; 329.; 330.; 331.; 332.;\n",
       "   333.; 334.; 335.; 336.; 337.; 338.; 339.; 340.; 341.; 342.; 343.; 344.;\n",
       "   345.; 346.; 347.; 348.; 349.; 350.; 351.; 352.; 353.; 354.; 355.; 356.;\n",
       "   357.; 358.; 359.; 360.; 361.; 362.; 363.; 364.; 365.; 366.; 367.; 368.;\n",
       "   369.; 370.; 371.; 372.; 373.; 374.; 375.; 376.; 377.; 378.; 379.; 380.;\n",
       "   381.; 382.; 383.; 384.; 385.; 386.; 387.; 388.; 389.; 390.; 391.; 392.;\n",
       "   393.; 394.; 395.; 396.; 397.; 398.; 399.; 400.; 401.; 402.; 403.; 404.;\n",
       "   405.; 406.; 407.; 408.; 409.; 410.; 411.; 412.; 413.; 414.; 415.; 416.;\n",
       "   417.; 418.; 419.; 420.; 421.; 422.; 423.; 424.; 425.; 426.; 427.; 428.;\n",
       "   429.; 430.; 431.; 432.; 433.; 434.; 435.; 436.; 437.; 438.; 439.; 440.;\n",
       "   441.; 442.; 443.; 444.; 445.; 446.; 447.; 448.; 449.; 450.; 451.; 452.;\n",
       "   453.; 454.; 455.; 456.; 457.; 458.; 459.; 460.; 461.; 462.; 463.; 464.;\n",
       "   465.; 466.; 467.; 468.; 469.; 470.; 471.; 472.; 473.; 474.; 475.; 476.;\n",
       "   477.; 478.; 479.; 480.; 481.; 482.; 483.; 484.; 485.; 486.; 487.; 488.;\n",
       "   489.; 490.; 491.; 492.; 493.; 494.; 495.; 496.; 497.; 498.; 499.; 500.;\n",
       "   501.; 502.; 503.; 504.; 505.; 506.; 507.; 508.; 509.; 510.; 511.; 512.;\n",
       "   513.; 514.; 515.; 516.; 517.; 518.; 519.; 520.; 521.; 522.; 523.; 524.;\n",
       "   525.; 526.; 527.; 528.; 529.; 530.; 531.; 532.; 533.; 534.; 535.; 536.;\n",
       "   537.; 538.; 539.; 540.; 541.; 542.; 543.; 544.; 545.; 546.; 547.; 548.;\n",
       "   549.; 550.; 551.; 552.; 553.; 554.; 555.; 556.; 557.; 558.; 559.; 560.;\n",
       "   561.; 562.; 563.; 564.; 565.; 566.; 567.; 568.; 569.; 570.; 571.; 572.;\n",
       "   573.; 574.; 575.; 576.; 577.; 578.; 579.; 580.; 581.; 582.; 583.; 584.;\n",
       "   585.; 586.; 587.; 588.; 589.; 590.; 591.; 592.; 593.; 594.; 595.; 596.;\n",
       "   597.; 598.; 599.; 600.; 601.; 602.; 603.; 604.; 605.; 606.; 607.; 608.;\n",
       "   609.; 610.; 611.; 612.; 613.; 614.; 615.; 616.; 617.; 618.; 619.; 620.;\n",
       "   621.; 622.; 623.; 624.; 625.; 626.; 627.; 628.; 629.; 630.; 631.; 632.;\n",
       "   633.; 634.; 635.; 636.; 637.; 638.; 639.; 640.; 641.; 642.; 643.; 644.;\n",
       "   645.; 646.; 647.; 648.; 649.; 650.; 651.; 652.; 653.; 654.; 655.; 656.;\n",
       "   657.; 658.; 659.; 660.; 661.; 662.; 663.; 664.; 665.; 666.; 667.; 668.;\n",
       "   669.; 670.; 671.; 672.; 673.; 674.; 675.; 676.; 677.; 678.; 679.; 680.;\n",
       "   681.; 682.; 683.; 684.; 685.; 686.; 687.; 688.; 689.; 690.; 691.; 692.;\n",
       "   693.; 694.; 695.; 696.; 697.; 698.; 699.; 700.; 701.; 702.; 703.; 704.;\n",
       "   705.; 706.; 707.; 708.; 709.; 710.; 711.; 712.; 713.; 714.; 715.; 716.;\n",
       "   717.; 718.; 719.; 720.; 721.; 722.; 723.; 724.; 725.; 726.; 727.; 728.;\n",
       "   729.; 730.; 731.; 732.; 733.; 734.; 735.; 736.; 737.; 738.; 739.; 740.;\n",
       "   741.; 742.; 743.; 744.; 745.; 746.; 747.; 748.; 749.; 750.; 751.; 752.;\n",
       "   753.; 754.; 755.; 756.; 757.; 758.; 759.; 760.; 761.; 762.; 763.; 764.;\n",
       "   765.; 766.; 767.; 768.; 769.; 770.; 771.; 772.; 773.; 774.; 775.; 776.;\n",
       "   777.; 778.; 779.; 780.; 781.; 782.; 783.; 784.; 785.; 786.; 787.; 788.;\n",
       "   789.; 790.; 791.; 792.; 793.; 794.; 795.; 796.; 797.; 798.; 799.; 800.;\n",
       "   801.; 802.; 803.; 804.; 805.; 806.; 807.; 808.; 809.; 810.; 811.; 812.;\n",
       "   813.; 814.; 815.; 816.; 817.; 818.; 819.; 820.; 821.; 822.; 823.; 824.;\n",
       "   825.; 826.; 827.; 828.; 829.; 830.; 831.; 832.; 833.; 834.; 835.; 836.;\n",
       "   837.; 838.; 839.; 840.; 841.; 842.; 843.; 844.; 845.; 846.; 847.; 848.;\n",
       "   849.; 850.; 851.; 852.; 853.; 854.; 855.; 856.; 857.; 858.; 859.; 860.;\n",
       "   861.; 862.; 863.; 864.; 865.; 866.; 867.; 868.; 869.; 870.; 871.; 872.;\n",
       "   873.; 874.; 875.; 876.; 877.; 878.; 879.; 880.; 881.; 882.; 883.; 884.;\n",
       "   885.; 886.; 887.; 888.; 889.; 890.; 891.; 892.; 893.; 894.; 895.; 896.;\n",
       "   897.; 898.; 899.; 900.; 901.; 902.; 903.; 904.; 905.; 906.; 907.; 908.;\n",
       "   909.; 910.; 911.; 912.; 913.; 914.; 915.; 916.; 917.; 918.; 919.; 920.;\n",
       "   921.; 922.; 923.; 924.; 925.; 926.; 927.; 928.; 929.; 930.; 931.; 932.;\n",
       "   933.; 934.; 935.; 936.; 937.; 938.; 939.; 940.; 941.; 942.; 943.; 944.;\n",
       "   945.; 946.; 947.; 948.; 949.; 950.; 951.; 952.; 953.; 954.; 955.; 956.;\n",
       "   957.; 958.; 959.; 960.; 961.; 962.; 963.; 964.; 965.; 966.; 967.; 968.;\n",
       "   969.; 970.; 971.; 972.; 973.; 974.; 975.; 976.; 977.; 978.; 979.; 980.;\n",
       "   981.; 982.; 983.; 984.; 985.; 986.; 987.; 988.; 989.; 990.; 991.; 992.;\n",
       "   993.; 994.; 995.; 996.; 997.; 998.; ...]\n"
      ]
     },
     "execution_count": 50,
     "metadata": {},
     "output_type": "execute_result"
    }
   ],
   "source": [
    "let x = List.init 1000000 float"
   ]
  },
  {
   "cell_type": "code",
   "execution_count": 56,
   "metadata": {},
   "outputs": [
    {
     "data": {
      "text/plain": [
       "val y : float = 2000000.\n"
      ]
     },
     "execution_count": 56,
     "metadata": {},
     "output_type": "execute_result"
    }
   ],
   "source": [
    "let y = try 2. *. f x with Unsolvable_size n -> 2. *. float n"
   ]
  },
  {
   "cell_type": "code",
   "execution_count": 37,
   "metadata": {},
   "outputs": [
    {
     "ename": "error",
     "evalue": "runtime_error",
     "output_type": "error",
     "traceback": [
      "\u001b[31mException: Failure \"string\".\nRaised at file \"stdlib.ml\", line 29, characters 22-33\nCalled from file \"toplevel/toploop.ml\", line 208, characters 17-27\n\u001b[0m"
     ]
    }
   ],
   "source": [
    "failwith \"string\""
   ]
  },
  {
   "cell_type": "code",
   "execution_count": 38,
   "metadata": {},
   "outputs": [
    {
     "ename": "error",
     "evalue": "runtime_error",
     "output_type": "error",
     "traceback": [
      "\u001b[31mException: Failure \"string\".\nCalled from file \"toplevel/toploop.ml\", line 208, characters 17-27\n\u001b[0m"
     ]
    }
   ],
   "source": [
    "raise (Failure \"string\")"
   ]
  },
  {
   "cell_type": "code",
   "execution_count": 48,
   "metadata": {},
   "outputs": [
    {
     "ename": "error",
     "evalue": "runtime_error",
     "output_type": "error",
     "traceback": [
      "\u001b[31mException: Invalid_argument \"index out of bounds\".\nRaised by primitive operation at unknown location\nCalled from file \"toplevel/toploop.ml\", line 208, characters 17-27\n\u001b[0m"
     ]
    }
   ],
   "source": [
    "let x = [| |] in x.(0)"
   ]
  },
  {
   "cell_type": "code",
   "execution_count": 63,
   "metadata": {},
   "outputs": [
    {
     "data": {
      "text/plain": [
       "- : int list = [6; 5; 4]\n"
      ]
     },
     "execution_count": 63,
     "metadata": {},
     "output_type": "execute_result"
    }
   ],
   "source": [
    "List.fold_left (fun accu x -> x :: accu) [] [4; 5; 6]"
   ]
  },
  {
   "cell_type": "code",
   "execution_count": 57,
   "metadata": {},
   "outputs": [
    {
     "data": {
      "text/plain": [
       "val rev : 'a list -> 'a list = <fun>\n"
      ]
     },
     "execution_count": 57,
     "metadata": {},
     "output_type": "execute_result"
    }
   ],
   "source": [
    "let rec rev x =\n",
    "  match x with\n",
    "  | hd :: tl -> (rev tl) @ [ hd ]\n",
    "  | [] -> []"
   ]
  },
  {
   "cell_type": "code",
   "execution_count": 58,
   "metadata": {},
   "outputs": [
    {
     "data": {
      "text/plain": [
       "- : int list = [6; 5; 4]\n"
      ]
     },
     "execution_count": 58,
     "metadata": {},
     "output_type": "execute_result"
    }
   ],
   "source": [
    "rev [4; 5; 6]"
   ]
  },
  {
   "cell_type": "markdown",
   "metadata": {},
   "source": [
    "1. Return the last element of a list\n",
    "2. Return the ith element of a list\n",
    "3. zip function (`zip [a1; a2; ...] [b1; b2; ...] = [a1, b1; a2, b2; ... ]`)"
   ]
  },
  {
   "cell_type": "code",
   "execution_count": null,
   "metadata": {},
   "outputs": [],
   "source": []
  }
 ],
 "metadata": {
  "kernelspec": {
   "display_name": "OCaml 4.08.1+flambda",
   "language": "OCaml",
   "name": "ocaml-jupyter"
  },
  "language_info": {
   "codemirror_mode": "text/x-ocaml",
   "file_extension": ".ml",
   "mimetype": "text/x-ocaml",
   "name": "OCaml",
   "nbconverter_exporter": null,
   "pygments_lexer": "OCaml",
   "version": "4.08.1"
  }
 },
 "nbformat": 4,
 "nbformat_minor": 2
}
